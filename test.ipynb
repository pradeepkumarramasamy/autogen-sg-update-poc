{
 "cells": [
  {
   "cell_type": "code",
   "execution_count": 1,
   "id": "e8ef8394",
   "metadata": {},
   "outputs": [
    {
     "name": "stdout",
     "output_type": "stream",
     "text": [
      "['__abstractmethods__', '__annotations__', '__class__', '__class_getitem__', '__delattr__', '__dict__', '__dir__', '__doc__', '__eq__', '__firstlineno__', '__format__', '__ge__', '__getattribute__', '__getstate__', '__gt__', '__hash__', '__init__', '__init_subclass__', '__le__', '__lt__', '__module__', '__ne__', '__new__', '__orig_bases__', '__parameters__', '__protocol_attrs__', '__reduce__', '__reduce_ex__', '__repr__', '__setattr__', '__sizeof__', '__slots__', '__static_attributes__', '__str__', '__subclasshook__', '__weakref__', '_abc_impl', '_add_messages_to_context', '_call_llm', '_check_and_handle_handoff', '_execute_tool_call', '_from_config', '_from_config_past_version', '_get_compatible_context', '_is_protocol', '_is_runtime_protocol', '_process_model_result', '_reflect_on_tool_use_flow', '_summarize_tool_use', '_to_config', '_update_model_context_with_memory', 'close', 'component_config_schema', 'component_description', 'component_label', 'component_provider_override', 'component_type', 'component_version', 'description', 'dump_component', 'load_component', 'load_state', 'model_context', 'name', 'on_messages', 'on_messages_stream', 'on_pause', 'on_reset', 'on_resume', 'produced_message_types', 'required_class_vars', 'run', 'run_stream', 'save_state']\n"
     ]
    }
   ],
   "source": [
    "from autogen_agentchat.agents import AssistantAgent\n",
    "\n",
    "print(dir(AssistantAgent))"
   ]
  },
  {
   "cell_type": "code",
   "execution_count": null,
   "id": "6dfecce6",
   "metadata": {},
   "outputs": [],
   "source": []
  }
 ],
 "metadata": {
  "kernelspec": {
   "display_name": ".venv",
   "language": "python",
   "name": "python3"
  },
  "language_info": {
   "codemirror_mode": {
    "name": "ipython",
    "version": 3
   },
   "file_extension": ".py",
   "mimetype": "text/x-python",
   "name": "python",
   "nbconvert_exporter": "python",
   "pygments_lexer": "ipython3",
   "version": "3.13.5"
  }
 },
 "nbformat": 4,
 "nbformat_minor": 5
}
